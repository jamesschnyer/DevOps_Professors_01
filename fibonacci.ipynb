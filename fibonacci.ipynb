{
 "cells": [
  {
   "cell_type": "code",
   "execution_count": 1,
   "metadata": {},
   "outputs": [
    {
     "output_type": "stream",
     "name": "stdout",
     "text": "[1, 1, 2, 3, 5, 8, 13, 21, 34, 55]\n"
    }
   ],
   "source": [
    "fibonacci=[]\n",
    "i=1\n",
    "fibo=1\n",
    "control = 0\n",
    "while fibo<55:\n",
    "    fibo = i + control\n",
    "    fibonacci.append(fibo)\n",
    "    i, control = control, fibo\n",
    "print(fibonacci)"
   ]
  },
  {
   "cell_type": "code",
   "execution_count": null,
   "metadata": {},
   "outputs": [],
   "source": []
  }
 ],
 "metadata": {
  "language_info": {
   "codemirror_mode": {
    "name": "ipython",
    "version": 3
   },
   "file_extension": ".py",
   "mimetype": "text/x-python",
   "name": "python",
   "nbconvert_exporter": "python",
   "pygments_lexer": "ipython3",
   "version": "3.8.2-final"
  },
  "orig_nbformat": 2,
  "kernelspec": {
   "name": "python38232bitff82544d2ecb4e80a1483aadb68a595f",
   "display_name": "Python 3.8.2 32-bit"
  }
 },
 "nbformat": 4,
 "nbformat_minor": 2
}